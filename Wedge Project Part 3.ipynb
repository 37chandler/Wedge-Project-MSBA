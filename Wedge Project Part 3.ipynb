{
 "cells": [
  {
   "cell_type": "markdown",
   "id": "33364a4d",
   "metadata": {},
   "source": [
    "## Wedge Project - Part 3"
   ]
  },
  {
   "cell_type": "code",
   "execution_count": 27,
   "id": "93a63ac8",
   "metadata": {},
   "outputs": [],
   "source": [
    "import sqlite3\n",
    "import os\n",
    "import pandas as pd"
   ]
  },
  {
   "cell_type": "markdown",
   "id": "d3ab129e",
   "metadata": {},
   "source": [
    "### Create database and fill empty tables with CSV from GBQ"
   ]
  },
  {
   "cell_type": "code",
   "execution_count": 45,
   "id": "fcfafd37",
   "metadata": {},
   "outputs": [],
   "source": [
    "db_1 = sqlite3.connect(\"Wedge_Project_Part3.db\")\n",
    "\n",
    "cursor = db_1.cursor()"
   ]
  },
  {
   "cell_type": "code",
   "execution_count": 46,
   "id": "4b710fe1",
   "metadata": {},
   "outputs": [
    {
     "data": {
      "text/plain": [
       "<sqlite3.Cursor at 0x1b0206a02c0>"
      ]
     },
     "execution_count": 46,
     "metadata": {},
     "output_type": "execute_result"
    }
   ],
   "source": [
    "#create table\n",
    "cursor.execute('''CREATE TABLE sales_by_date_2 (\n",
    "    date DATE,\n",
    "    hour INTEGER,\n",
    "    total_spend FLOAT,\n",
    "    num_transactions INTEGER,\n",
    "    items INTEGER)''')"
   ]
  },
  {
   "cell_type": "code",
   "execution_count": 47,
   "id": "ec8b1b61",
   "metadata": {},
   "outputs": [],
   "source": [
    "#fill with csv from GBQ query - same for next 2\n",
    "with open(\"sales_by_date.csv\",'r') as infile :\n",
    "    next(infile)\n",
    "    \n",
    "    for line in infile :\n",
    "        line = line.strip().split(\",\")\n",
    "    \n",
    "        cursor.execute('''\n",
    "            INSERT INTO sales_by_date_2(date,hour,total_spend,num_transactions,items)VALUES(?,?,?,?,?)''',line)"
   ]
  },
  {
   "cell_type": "code",
   "execution_count": 48,
   "id": "19ef1375",
   "metadata": {},
   "outputs": [
    {
     "name": "stdout",
     "output_type": "stream",
     "text": [
      "Number of rows in PostgreSQL table: 39133\n"
     ]
    }
   ],
   "source": [
    "cursor.execute('SELECT COUNT(*) FROM sales_by_date;')\n",
    "count = cursor.fetchone()[0]\n",
    "print(f\"Number of rows in PostgreSQL table: {count}\")\n"
   ]
  },
  {
   "cell_type": "code",
   "execution_count": 49,
   "id": "56f5230c",
   "metadata": {},
   "outputs": [
    {
     "data": {
      "text/plain": [
       "<sqlite3.Cursor at 0x1b0206a02c0>"
      ]
     },
     "execution_count": 49,
     "metadata": {},
     "output_type": "execute_result"
    }
   ],
   "source": [
    "cursor.execute('''CREATE TABLE sales_by_owner_2(\n",
    "    card_no FLOAT,\n",
    "    year INTEGER,\n",
    "    month INTEGER,\n",
    "    sales FLOAT,\n",
    "    transactions INTEGER,\n",
    "    items INTEGER)''')"
   ]
  },
  {
   "cell_type": "code",
   "execution_count": 50,
   "id": "927c8b44",
   "metadata": {},
   "outputs": [],
   "source": [
    "s_owner = []\n",
    "with open(\"sales_by_owner.csv\",'r') as infile :\n",
    "    next(infile)\n",
    "    \n",
    "    for line in infile :\n",
    "        line = line.strip().split(\",\")\n",
    "        s_owner.append(line)\n",
    "        \n",
    "        cursor.execute('''\n",
    "            INSERT INTO sales_by_owner_2 (card_no,year,month,sales,transactions,items)VALUES(?,?,?,?,?,?)''',line)"
   ]
  },
  {
   "cell_type": "code",
   "execution_count": 51,
   "id": "577c7436",
   "metadata": {},
   "outputs": [
    {
     "name": "stdout",
     "output_type": "stream",
     "text": [
      "Number of rows in PostgreSQL table: 167791\n"
     ]
    }
   ],
   "source": [
    "cursor.execute('SELECT COUNT(*) FROM sales_by_owner;')\n",
    "count = cursor.fetchone()[0]\n",
    "print(f\"Number of rows in PostgreSQL table: {count}\")\n"
   ]
  },
  {
   "cell_type": "code",
   "execution_count": null,
   "id": "bb6c625c",
   "metadata": {},
   "outputs": [],
   "source": [
    "cursor.execute('''CREATE TABLE sales_by_product_2 (\n",
    "    upc STRING,\n",
    "    description STRING,\n",
    "    dept_number FLOAT,\n",
    "    dept_name STRING,\n",
    "    year INTEGER,\n",
    "    month INTEGER,\n",
    "    sales FLOAT,\n",
    "    transactions INTEGER,\n",
    "    items INTEGER)''')"
   ]
  },
  {
   "cell_type": "code",
   "execution_count": 57,
   "id": "f2d4209a",
   "metadata": {},
   "outputs": [],
   "source": [
    "#same as above\n",
    "s_product = []\n",
    "with open(\"sales_by_product.csv\",'r') as infile :\n",
    "    next(infile)\n",
    "    \n",
    "    for line in infile :\n",
    "        line = line.strip().split(\",\")\n",
    "        s_product.append(line)\n",
    "        \n",
    "    \n",
    "        cursor.execute('''\n",
    "            INSERT INTO sales_by_product_2 (upc,description,dept_number,dept_name,year,month,sales,transactions,items\n",
    "            )VALUES(?,?,?,?,?,?,?,?,?)''',line)"
   ]
  },
  {
   "cell_type": "code",
   "execution_count": 58,
   "id": "d96b994d",
   "metadata": {},
   "outputs": [
    {
     "name": "stdout",
     "output_type": "stream",
     "text": [
      "Number of rows in PostgreSQL table: 176690\n"
     ]
    }
   ],
   "source": [
    "#check number of rows\n",
    "cursor.execute('SELECT COUNT(*) FROM sales_by_product_2;')\n",
    "count = cursor.fetchone()[0]\n",
    "print(f\"Number of rows in PostgreSQL table: {count}\")\n"
   ]
  },
  {
   "cell_type": "code",
   "execution_count": 59,
   "id": "506fb209",
   "metadata": {},
   "outputs": [],
   "source": [
    "#Commit changes\n",
    "db_1.commit()"
   ]
  },
  {
   "cell_type": "code",
   "execution_count": null,
   "id": "59564b2f",
   "metadata": {},
   "outputs": [],
   "source": []
  }
 ],
 "metadata": {
  "kernelspec": {
   "display_name": "Python 3 (ipykernel)",
   "language": "python",
   "name": "python3"
  },
  "language_info": {
   "codemirror_mode": {
    "name": "ipython",
    "version": 3
   },
   "file_extension": ".py",
   "mimetype": "text/x-python",
   "name": "python",
   "nbconvert_exporter": "python",
   "pygments_lexer": "ipython3",
   "version": "3.11.4"
  }
 },
 "nbformat": 4,
 "nbformat_minor": 5
}
