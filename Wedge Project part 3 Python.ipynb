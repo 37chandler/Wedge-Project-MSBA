{
 "cells": [
  {
   "cell_type": "markdown",
   "id": "47ed5eeb",
   "metadata": {},
   "source": [
    "## Python to Create Tables"
   ]
  },
  {
   "cell_type": "code",
   "execution_count": null,
   "id": "e421b64a",
   "metadata": {},
   "outputs": [],
   "source": [
    "import sqlite3\n",
    "from google.cloud import bigquery\n",
    "from google.oauth2 import service_account\n",
    "\n",
    "# Set up your Google BigQuery credentials and client\n",
    "service_path = r\"C:\\Users\\Sam Beighle\\Documents\\ADA\"\n",
    "service_file = r'\\wedge-project-sam-beighle-3df5c228fad7.json'\n",
    "gbq_proj_id = 'wedge-project-sam-beighle'\n",
    "private_key = service_path + service_file\n",
    "credentials = service_account.Credentials.from_service_account_file(private_key)\n",
    "client = bigquery.Client(credentials=credentials, project=gbq_proj_id)\n",
    "\n",
    "# Specify the path and name of your new SQLite database\n",
    "new_db_path = \"new_database_1.db\"\n",
    "\n",
    "# Establish a connection to the new SQLite database\n",
    "db_1 = sqlite3.connect(new_db_path)\n",
    "cursor = db_1.cursor()"
   ]
  },
  {
   "cell_type": "code",
   "execution_count": null,
   "id": "d3ba1e16",
   "metadata": {},
   "outputs": [],
   "source": [
    "\n",
    "# Define your BigQuery SQL queries and corresponding table schemas\n",
    "queries_and_schemas = {\n",
    "    \"sales_by_date_2\": {\n",
    "        \"query\": \"\"\"\n",
    "            SELECT\n",
    "                EXTRACT(DATE FROM datetime) AS date,\n",
    "                EXTRACT(HOUR FROM datetime) AS hour,\n",
    "                SUM(total) AS total_spend,\n",
    "                COUNT(DISTINCT CONCAT(CAST(EXTRACT(DATE FROM datetime) AS STRING), CAST(register_no AS STRING), CAST(emp_no AS STRING), CAST(trans_no AS STRING))) AS num_transactions,\n",
    "                SUM(CASE WHEN trans_status IN ('V', 'R') THEN -1 ELSE 1 END) AS items\n",
    "            FROM `wedge-project-sam-beighle.wedge_project_beighle.transArchive_20*`\n",
    "            WHERE department NOT IN (0, 15)\n",
    "            AND (trans_status IS NULL OR trans_status IN (' ', 'V', 'R'))\n",
    "            GROUP BY date, hour\n",
    "            ORDER BY date, hour\n",
    "        \"\"\",\n",
    "        \"schema\": \"date DATE, hour INTEGER, total_spend FLOAT, num_transactions INTEGER, items INTEGER\"\n",
    "    },\n",
    "    \"sales_by_owner_2\": {\n",
    "        \"query\": \"\"\"\n",
    "            SELECT\n",
    "                DISTINCT card_no AS card_no,\n",
    "                EXTRACT(YEAR FROM datetime) AS year,\n",
    "                EXTRACT(MONTH FROM datetime) AS month,\n",
    "                SUM(total) AS sales,\n",
    "                COUNT(DISTINCT CONCAT(CAST(EXTRACT(DATE FROM datetime) AS STRING), CAST(register_no AS STRING), CAST(emp_no AS STRING), CAST(trans_no AS STRING))) AS transactions,\n",
    "                SUM(CASE WHEN trans_status IN ('V', 'R') THEN -1 ELSE 1 END) AS items\n",
    "            FROM `wedge-project-sam-beighle.wedge_project_beighle.transArchive_2*`\n",
    "            GROUP BY card_no, year, month\n",
    "            ORDER BY year, month, card_no\n",
    "        \"\"\",\n",
    "        \"schema\": \"card_no FLOAT, year INTEGER, month INTEGER, sales FLOAT, transactions INTEGER, items INTEGER\"\n",
    "    },\n",
    "    \"sales_by_product_2\": {\n",
    "        \"query\": \"\"\"\n",
    "            WITH filtered_data AS (\n",
    "                SELECT\n",
    "                    transtable.upc,\n",
    "                    transtable.description,\n",
    "                    transtable.department AS dept_number,\n",
    "                    Dept.dept_name,\n",
    "                    EXTRACT(YEAR FROM transtable.datetime) AS year,\n",
    "                    EXTRACT(MONTH FROM transtable.datetime) AS month,\n",
    "                    SUM(total) AS sales,\n",
    "                    COUNT(DISTINCT CONCAT(CAST(EXTRACT(DATE FROM transtable.datetime) AS STRING), CAST(transtable.register_no AS STRING), CAST(transtable.emp_no AS STRING), CAST(transtable.trans_no AS STRING))) AS transactions,\n",
    "                    SUM(CASE WHEN transtable.trans_status IN ('V', 'R') THEN -1 ELSE 1 END) AS items\n",
    "                FROM `wedge-project-sam-beighle.wedge_project_beighle.transArchive_20*` AS transtable\n",
    "                JOIN `wedge-project-sam-beighle.wedge_project_beighle.department_lookup` AS Dept ON Dept.department = transtable.department\n",
    "                GROUP BY transtable.upc, transtable.description, transtable.department, Dept.dept_name, year, month\n",
    "                ORDER BY description, upc, year, month, department, Dept.dept_name\n",
    "            \"\"\",\n",
    "        \"schema\": \"upc STRING, description STRING, dept_number FLOAT, dept_name STRING, year INTEGER, month INTEGER, sales FLOAT, transactions INTEGER, items INTEGER\"\n",
    "    }\n",
    "}"
   ]
  },
  {
   "cell_type": "code",
   "execution_count": null,
   "id": "fdec5915",
   "metadata": {},
   "outputs": [],
   "source": [
    "# Loop through queries and insert data into respective SQLite tables\n",
    "for table_name, data in queries_and_schemas.items():\n",
    "    cursor.execute(f\"CREATE TABLE IF NOT EXISTS {table_name} ({data['schema']})\")\n",
    "\n",
    "    # Fetch data from BigQuery and insert it into the table\n",
    "    query_job = client.query(data['query'])\n",
    "    rows = query_job.result()\n",
    "\n",
    "    for row in rows:\n",
    "        cursor.execute(f\"INSERT INTO {table_name} VALUES ({', '.join(['?'] * len(row))})\", row)\n",
    "\n",
    "# Commit the changes to the new SQLite database\n",
    "db_1.commit()\n",
    "\n",
    "# Close the database connection\n",
    "db_1.close()"
   ]
  },
  {
   "cell_type": "code",
   "execution_count": null,
   "id": "9ee72fac",
   "metadata": {},
   "outputs": [],
   "source": []
  }
 ],
 "metadata": {
  "kernelspec": {
   "display_name": "Python 3 (ipykernel)",
   "language": "python",
   "name": "python3"
  },
  "language_info": {
   "codemirror_mode": {
    "name": "ipython",
    "version": 3
   },
   "file_extension": ".py",
   "mimetype": "text/x-python",
   "name": "python",
   "nbconvert_exporter": "python",
   "pygments_lexer": "ipython3",
   "version": "3.11.4"
  }
 },
 "nbformat": 4,
 "nbformat_minor": 5
}
