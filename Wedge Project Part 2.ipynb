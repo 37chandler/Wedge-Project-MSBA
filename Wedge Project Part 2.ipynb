{
 "cells": [
  {
   "cell_type": "markdown",
   "id": "e38ae76a",
   "metadata": {},
   "source": [
    "## Wedge Project Part 2 - Creating a  Sample of Owners"
   ]
  },
  {
   "cell_type": "code",
   "execution_count": 98,
   "id": "6de996e5",
   "metadata": {},
   "outputs": [],
   "source": [
    "import os\n",
    "import re\n",
    "import random\n",
    "\n",
    "import pandas as pd\n",
    "import numpy as np\n",
    "import pandas_gbq\n",
    "from random import sample\n",
    "\n",
    "from google.cloud import bigquery\n",
    "from google.oauth2 import service_account"
   ]
  },
  {
   "cell_type": "markdown",
   "id": "4e3aebf5",
   "metadata": {},
   "source": [
    "### Connect to GBQ"
   ]
  },
  {
   "cell_type": "code",
   "execution_count": 43,
   "id": "8f4cb70b",
   "metadata": {},
   "outputs": [
    {
     "name": "stdout",
     "output_type": "stream",
     "text": [
      "wedge-project-sam-beighle:new_dataset_id\n",
      "wedge-project-sam-beighle:owner_products\n",
      "wedge-project-sam-beighle:test\n",
      "wedge-project-sam-beighle:wedge_project_beighle\n"
     ]
    }
   ],
   "source": [
    "\n",
    "service_path = r\"C:\\Users\\Sam Beighle\\Documents\\ADA\"\n",
    "service_file = r'\\wedge-project-sam-beighle-3df5c228fad7.json'\n",
    "gbq_proj_id = 'wedge-project-sam-beighle'\n",
    "\n",
    "# And this should stay the same. \n",
    "private_key =service_path + service_file\n",
    "# Now we pass in our credentials so that Python has permission to access our project.\n",
    "credentials = service_account.Credentials.from_service_account_file(service_path + service_file)\n",
    "# And finally we establish our connection\n",
    "client = bigquery.Client(credentials = credentials, project=gbq_proj_id)\n",
    "#let's make sure it works\n",
    "\n",
    "for item in client.list_datasets() : \n",
    "    print(item.full_dataset_id)"
   ]
  },
  {
   "cell_type": "code",
   "execution_count": 44,
   "id": "d9cc97f1",
   "metadata": {},
   "outputs": [
    {
     "name": "stdout",
     "output_type": "stream",
     "text": [
      "Using service account: big-query@wedge-project-sam-beighle.iam.gserviceaccount.com\n"
     ]
    }
   ],
   "source": [
    "service_path = r\"C:\\Users\\Sam Beighle\\Documents\\ADA\"\n",
    "service_file = r'C:\\Users\\Sam Beighle\\Documents\\ADA\\wedge-project-sam-beighle-3df5c228fad7.json'\n",
    "\n",
    "# Load the service account credentials\n",
    "credentials = service_account.Credentials.from_service_account_file(private_key)\n",
    "\n",
    "# Create a BigQuery client\n",
    "client = bigquery.Client(credentials=credentials)\n",
    "\n",
    "# Get the email address of the service account\n",
    "service_account_email = credentials.service_account_email\n",
    "\n",
    "print(f\"Using service account: {service_account_email}\")"
   ]
  },
  {
   "cell_type": "markdown",
   "id": "45664030",
   "metadata": {},
   "source": [
    "### Query and Creating CSV"
   ]
  },
  {
   "cell_type": "code",
   "execution_count": 75,
   "id": "94a09238",
   "metadata": {},
   "outputs": [],
   "source": [
    "owner_sample = []\n",
    "\n",
    "query = \"\"\"\n",
    "        SELECT DISTINCT(card_no)\n",
    "        FROM `wedge-project-sam-beighle.wedge_project_beighle.transArchive_2*`\n",
    "        WHERE card_no != 3\"\"\"\n",
    "\n",
    "results = client.query(\n",
    "    query,\n",
    ")\n",
    "\n",
    "\n",
    "for row in results :\n",
    "    owner_sample.append(row.values()[0])\n",
    "\n",
    "\n"
   ]
  },
  {
   "cell_type": "code",
   "execution_count": null,
   "id": "bd0330dc",
   "metadata": {},
   "outputs": [],
   "source": [
    "for row in results:\n",
    "    print(row)\n"
   ]
  },
  {
   "cell_type": "code",
   "execution_count": 83,
   "id": "c38b0923",
   "metadata": {},
   "outputs": [],
   "source": [
    "random.seed(10)\n",
    "random_owner_sample = random.choices(owner_list, k=200)"
   ]
  },
  {
   "cell_type": "code",
   "execution_count": 92,
   "id": "de1f2a7a",
   "metadata": {},
   "outputs": [],
   "source": [
    "query = \"\"\"     \n",
    "SELECT card_no, *\n",
    "FROM `wedge-project-sam-beighle.wedge_project_beighle.transArchive_201004_201006_clean`\n",
    "WHERE card_no in (\n",
    "\"\"\"\n",
    "query = query +\",\".join([str(element) for element in random_owner_sample])+\")\""
   ]
  },
  {
   "cell_type": "code",
   "execution_count": null,
   "id": "4b3edeae",
   "metadata": {},
   "outputs": [],
   "source": [
    "print(query)"
   ]
  },
  {
   "cell_type": "code",
   "execution_count": null,
   "id": "542cf70c",
   "metadata": {
    "scrolled": true
   },
   "outputs": [],
   "source": [
    "print(random_owner_sample)"
   ]
  },
  {
   "cell_type": "code",
   "execution_count": 96,
   "id": "a3c73eb4",
   "metadata": {},
   "outputs": [],
   "source": [
    "sample__of_owners = client.query(query).to_dataframe()\n",
    "sample__of_owners.to_csv(\"wedge_project_owner_sample_final.csv\")"
   ]
  },
  {
   "cell_type": "code",
   "execution_count": 82,
   "id": "a3e66cd0",
   "metadata": {},
   "outputs": [
    {
     "name": "stdout",
     "output_type": "stream",
     "text": [
      "\n",
      "        SELECT DISTINCT(card_no)\n",
      "        FROM `wedge-project-sam-beighle.wedge_project_beighle.tran\n"
     ]
    }
   ],
   "source": [
    "print(query[:100])"
   ]
  },
  {
   "cell_type": "markdown",
   "id": "e5893f39",
   "metadata": {},
   "source": [
    "### Output to check if worked, card_no as first column"
   ]
  },
  {
   "cell_type": "code",
   "execution_count": 97,
   "id": "97834b67",
   "metadata": {},
   "outputs": [
    {
     "name": "stdout",
     "output_type": "stream",
     "text": [
      "   Unnamed: 0  card_no                   datetime  register_no  emp_no  \\\n",
      "0           0    35228  2010-05-08 11:35:49+00:00           16      54   \n",
      "1           1    44417  2010-04-04 12:25:24+00:00            6      44   \n",
      "2           2    44213  2010-06-18 11:17:56+00:00            9      50   \n",
      "3           3    16825  2010-06-08 15:16:07+00:00            4      87   \n",
      "4           4    20410  2010-06-12 13:14:59+00:00            4      46   \n",
      "\n",
      "   trans_no upc  description trans_type trans_subtype  ... batchHeaderID  \\\n",
      "0        79   0       Change          T            CA  ...           NaN   \n",
      "1       142   0       Change          T            CA  ...           NaN   \n",
      "2        38   0  Credit Card          T            CC  ...           NaN   \n",
      "3        11   0         Cash          T            CA  ...           NaN   \n",
      "4        31   0       Change          T            CA  ...           NaN   \n",
      "\n",
      "   local  organic  display  receipt  card_no_1  store  branch  match_id  \\\n",
      "0      0      NaN      NaN        0      35228      1       0         0   \n",
      "1      0      NaN      NaN        0      44417      1       0         0   \n",
      "2      0      NaN      NaN        0      44213      1       0         0   \n",
      "3      0      NaN      NaN        0      16825      1       0         0   \n",
      "4      0      NaN      NaN        0      20410      1       0         0   \n",
      "\n",
      "   trans_id  \n",
      "0         7  \n",
      "1         9  \n",
      "2         5  \n",
      "3        11  \n",
      "4        15  \n",
      "\n",
      "[5 rows x 52 columns]\n"
     ]
    }
   ],
   "source": [
    "import pandas as pd\n",
    "\n",
    "sample_of_owners = pd.read_csv(\"wedge_project_owner_sample_final.csv\")\n",
    "\n",
    "print(sample_of_owners.head())\n"
   ]
  },
  {
   "cell_type": "code",
   "execution_count": null,
   "id": "a0790de1",
   "metadata": {},
   "outputs": [],
   "source": []
  }
 ],
 "metadata": {
  "kernelspec": {
   "display_name": "Python 3 (ipykernel)",
   "language": "python",
   "name": "python3"
  },
  "language_info": {
   "codemirror_mode": {
    "name": "ipython",
    "version": 3
   },
   "file_extension": ".py",
   "mimetype": "text/x-python",
   "name": "python",
   "nbconvert_exporter": "python",
   "pygments_lexer": "ipython3",
   "version": "3.11.4"
  }
 },
 "nbformat": 4,
 "nbformat_minor": 5
}
